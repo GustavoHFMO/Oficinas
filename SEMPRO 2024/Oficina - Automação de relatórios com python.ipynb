{
 "cells": [
  {
   "cell_type": "markdown",
   "metadata": {},
   "source": [
    "# **Oficina - Automação de Relatórios com Python**"
   ]
  },
  {
   "cell_type": "markdown",
   "metadata": {},
   "source": [
    "Oficina para explicar como utilizar prompt do ChatGPT para criar um código python para automatizar relatórios."
   ]
  },
  {
   "cell_type": "markdown",
   "metadata": {},
   "source": [
    "## **1. Adição de Texto em um Template Word**"
   ]
  },
  {
   "cell_type": "markdown",
   "metadata": {},
   "source": [
    "**Pedido 1:** Chat, eu gostaria de criar um código python para preencher uma parte de um arquivo word. Para isso, eu já tenho um template chamado de \"template_relatorio.docx\". Eu gostaria de adicionar um texto nesse documento na parte onde tem <TEXTO>, como fazer?\n"
   ]
  },
  {
   "cell_type": "code",
   "execution_count": 1,
   "metadata": {},
   "outputs": [
    {
     "name": "stdout",
     "output_type": "stream",
     "text": [
      "Requirement already satisfied: python-docx in c:\\users\\gustavo\\appdata\\local\\programs\\python\\python312\\lib\\site-packages (1.1.2)\n",
      "Requirement already satisfied: lxml>=3.1.0 in c:\\users\\gustavo\\appdata\\local\\programs\\python\\python312\\lib\\site-packages (from python-docx) (5.3.0)\n",
      "Requirement already satisfied: typing-extensions>=4.9.0 in c:\\users\\gustavo\\appdata\\local\\programs\\python\\python312\\lib\\site-packages (from python-docx) (4.12.2)\n",
      "Note: you may need to restart the kernel to use updated packages.\n"
     ]
    }
   ],
   "source": [
    "pip install python-docx"
   ]
  },
  {
   "cell_type": "code",
   "execution_count": 2,
   "metadata": {},
   "outputs": [],
   "source": [
    "from docx import Document"
   ]
  },
  {
   "cell_type": "code",
   "execution_count": 28,
   "metadata": {},
   "outputs": [],
   "source": [
    "def preencher_documento(caminho_template, marcador, texto_substituto, caminho_saida):\n",
    "    # Carrega o documento template\n",
    "    doc = Document(caminho_template)\n",
    "    \n",
    "    # Itera sobre os parágrafos do documento\n",
    "    for paragrafo in doc.paragraphs:\n",
    "        if marcador in paragrafo.text:\n",
    "            # Substitui o marcador pelo texto desejado\n",
    "            paragrafo.text = paragrafo.text.replace(marcador, texto_substituto)\n",
    "    \n",
    "    # Salva o documento modificado com um novo nome\n",
    "    doc.save(caminho_saida)"
   ]
  },
  {
   "cell_type": "code",
   "execution_count": 29,
   "metadata": {},
   "outputs": [],
   "source": [
    "# Caminho para o template e onde o documento preenchido será salvo\n",
    "caminho_template = 'template_relatorio.docx'\n",
    "caminho_saida = 'relatorio_preenchido.docx'\n",
    "\n",
    "# Texto para substituir o marcador\n",
    "texto_substituto = 'Este é o texto substituto'\n",
    "\n",
    "# Chama a função para preencher o documento\n",
    "preencher_documento(caminho_template, '<TEXTO>', texto_substituto, caminho_saida)"
   ]
  },
  {
   "cell_type": "markdown",
   "metadata": {},
   "source": [
    "## **2. Adição de Planilha em um Template Word**"
   ]
  },
  {
   "cell_type": "markdown",
   "metadata": {},
   "source": [
    "**Pedido 2:** Chat, eu gostaria de criar um código python para ler uma planilha de informações chamado de \"dados_exemplo.csv\". Em seguida adicionar as informações em formato de tabela no arquivo word chamado de \"template_relatorio.docx\". Eu gostaria que essa tabela fosse substituída no documento na parte onde tem <TABELA>, como fazer?"
   ]
  },
  {
   "cell_type": "code",
   "execution_count": 30,
   "metadata": {},
   "outputs": [
    {
     "name": "stdout",
     "output_type": "stream",
     "text": [
      "Requirement already satisfied: python-docx in c:\\users\\gustavo\\appdata\\local\\programs\\python\\python312\\lib\\site-packages (1.1.2)Note: you may need to restart the kernel to use updated packages.\n",
      "\n",
      "Requirement already satisfied: pandas in c:\\users\\gustavo\\appdata\\local\\programs\\python\\python312\\lib\\site-packages (2.2.2)\n",
      "Requirement already satisfied: lxml>=3.1.0 in c:\\users\\gustavo\\appdata\\local\\programs\\python\\python312\\lib\\site-packages (from python-docx) (5.3.0)\n",
      "Requirement already satisfied: typing-extensions>=4.9.0 in c:\\users\\gustavo\\appdata\\local\\programs\\python\\python312\\lib\\site-packages (from python-docx) (4.12.2)\n",
      "Requirement already satisfied: numpy>=1.26.0 in c:\\users\\gustavo\\appdata\\local\\programs\\python\\python312\\lib\\site-packages (from pandas) (2.1.1)\n",
      "Requirement already satisfied: python-dateutil>=2.8.2 in c:\\users\\gustavo\\appdata\\roaming\\python\\python312\\site-packages (from pandas) (2.9.0.post0)\n",
      "Requirement already satisfied: pytz>=2020.1 in c:\\users\\gustavo\\appdata\\local\\programs\\python\\python312\\lib\\site-packages (from pandas) (2024.1)\n",
      "Requirement already satisfied: tzdata>=2022.7 in c:\\users\\gustavo\\appdata\\local\\programs\\python\\python312\\lib\\site-packages (from pandas) (2024.1)\n",
      "Requirement already satisfied: six>=1.5 in c:\\users\\gustavo\\appdata\\roaming\\python\\python312\\site-packages (from python-dateutil>=2.8.2->pandas) (1.16.0)\n"
     ]
    }
   ],
   "source": [
    "pip install python-docx pandas"
   ]
  },
  {
   "cell_type": "code",
   "execution_count": 37,
   "metadata": {},
   "outputs": [],
   "source": [
    "import pandas as pd\n",
    "from docx import Document\n",
    "from docx.oxml.ns import qn"
   ]
  },
  {
   "cell_type": "code",
   "execution_count": 38,
   "metadata": {},
   "outputs": [],
   "source": [
    "def criar_tabela(doc, dados):\n",
    "    # Adiciona uma tabela ao documento\n",
    "    tabela = doc.add_table(rows=1, cols=len(dados.columns))\n",
    "    tabela.style = 'Table Grid'  # Adiciona um estilo à tabela\n",
    "    \n",
    "    # Adiciona cabeçalhos da tabela\n",
    "    hdr_cells = tabela.rows[0].cells\n",
    "    for i, coluna in enumerate(dados.columns):\n",
    "        hdr_cells[i].text = coluna\n",
    "    \n",
    "    # Adiciona dados à tabela\n",
    "    for index, linha in dados.iterrows():\n",
    "        row_cells = tabela.add_row().cells\n",
    "        for i, valor in enumerate(linha):\n",
    "            row_cells[i].text = str(valor)\n",
    "    \n",
    "    return tabela"
   ]
  },
  {
   "cell_type": "code",
   "execution_count": 39,
   "metadata": {},
   "outputs": [],
   "source": [
    "def substituir_tabela_no_documento(doc, marcador, dados):\n",
    "    # Itera sobre os parágrafos para encontrar o marcador\n",
    "    for paragrafo in doc.paragraphs:\n",
    "        if marcador in paragrafo.text:\n",
    "            # Remove o parágrafo com o marcador\n",
    "            p = paragrafo._element\n",
    "            p.getparent().remove(p)\n",
    "            # Adiciona uma nova tabela com os dados\n",
    "            doc.add_paragraph()  # Adiciona um parágrafo em branco antes da tabela\n",
    "            tabela = criar_tabela(doc, dados)\n",
    "            break"
   ]
  },
  {
   "cell_type": "code",
   "execution_count": 40,
   "metadata": {},
   "outputs": [],
   "source": [
    "def atualizar_documento(caminho_csv, caminho_template, caminho_saida):\n",
    "    # Lê os dados do CSV\n",
    "    dados = pd.read_csv(caminho_csv)\n",
    "    \n",
    "    # Carrega o documento template\n",
    "    doc = Document(caminho_template)\n",
    "    \n",
    "    # Substitui o marcador <TABELA> pela nova tabela\n",
    "    substituir_tabela_no_documento(doc, '<TABELA>', dados)\n",
    "    \n",
    "    # Salva o documento modificado com um novo nome\n",
    "    doc.save(caminho_saida)"
   ]
  },
  {
   "cell_type": "code",
   "execution_count": 41,
   "metadata": {},
   "outputs": [],
   "source": [
    "# Caminhos dos arquivos\n",
    "caminho_csv = 'dados_exemplo.csv'\n",
    "caminho_template = 'template_relatorio.docx'\n",
    "caminho_saida = 'relatorio_atualizado.docx'\n",
    "\n",
    "# Atualiza o documento com a tabela\n",
    "atualizar_documento(caminho_csv, caminho_template, caminho_saida)"
   ]
  },
  {
   "cell_type": "markdown",
   "metadata": {},
   "source": []
  },
  {
   "cell_type": "markdown",
   "metadata": {},
   "source": [
    "## **3. Adição de Gráfico em um Template Word**"
   ]
  },
  {
   "cell_type": "markdown",
   "metadata": {},
   "source": [
    "**Pedido 3:** Chat, eu tenho uma planilha chamada de \"dados_exemplo.csv\" que possui quatro colunas: Nome, Idade, Departamento e Salario. Eu gostaria de criar um código python para ler essas informações e criar um gráfico mostrando os salários dos nomes cadastrados. Em seguida, eu gostaria de adicionar esse gráfico em um documento word chamado de \"template_relatorio.docx\". Eu gostaria que o gráfico fosse substituído no documento na parte onde tem <GRAFICO>."
   ]
  },
  {
   "cell_type": "code",
   "execution_count": 42,
   "metadata": {},
   "outputs": [
    {
     "name": "stdout",
     "output_type": "stream",
     "text": [
      "Requirement already satisfied: pandas in c:\\users\\gustavo\\appdata\\local\\programs\\python\\python312\\lib\\site-packages (2.2.2)Note: you may need to restart the kernel to use updated packages.\n",
      "\n",
      "Requirement already satisfied: matplotlib in c:\\users\\gustavo\\appdata\\local\\programs\\python\\python312\\lib\\site-packages (3.9.2)\n",
      "Requirement already satisfied: python-docx in c:\\users\\gustavo\\appdata\\local\\programs\\python\\python312\\lib\\site-packages (1.1.2)\n",
      "Requirement already satisfied: numpy>=1.26.0 in c:\\users\\gustavo\\appdata\\local\\programs\\python\\python312\\lib\\site-packages (from pandas) (2.1.1)\n",
      "Requirement already satisfied: python-dateutil>=2.8.2 in c:\\users\\gustavo\\appdata\\roaming\\python\\python312\\site-packages (from pandas) (2.9.0.post0)\n",
      "Requirement already satisfied: pytz>=2020.1 in c:\\users\\gustavo\\appdata\\local\\programs\\python\\python312\\lib\\site-packages (from pandas) (2024.1)\n",
      "Requirement already satisfied: tzdata>=2022.7 in c:\\users\\gustavo\\appdata\\local\\programs\\python\\python312\\lib\\site-packages (from pandas) (2024.1)\n",
      "Requirement already satisfied: contourpy>=1.0.1 in c:\\users\\gustavo\\appdata\\local\\programs\\python\\python312\\lib\\site-packages (from matplotlib) (1.3.0)\n",
      "Requirement already satisfied: cycler>=0.10 in c:\\users\\gustavo\\appdata\\local\\programs\\python\\python312\\lib\\site-packages (from matplotlib) (0.12.1)\n",
      "Requirement already satisfied: fonttools>=4.22.0 in c:\\users\\gustavo\\appdata\\local\\programs\\python\\python312\\lib\\site-packages (from matplotlib) (4.53.1)\n",
      "Requirement already satisfied: kiwisolver>=1.3.1 in c:\\users\\gustavo\\appdata\\local\\programs\\python\\python312\\lib\\site-packages (from matplotlib) (1.4.7)\n",
      "Requirement already satisfied: packaging>=20.0 in c:\\users\\gustavo\\appdata\\roaming\\python\\python312\\site-packages (from matplotlib) (24.1)\n",
      "Requirement already satisfied: pillow>=8 in c:\\users\\gustavo\\appdata\\local\\programs\\python\\python312\\lib\\site-packages (from matplotlib) (10.4.0)\n",
      "Requirement already satisfied: pyparsing>=2.3.1 in c:\\users\\gustavo\\appdata\\local\\programs\\python\\python312\\lib\\site-packages (from matplotlib) (3.1.4)\n",
      "Requirement already satisfied: lxml>=3.1.0 in c:\\users\\gustavo\\appdata\\local\\programs\\python\\python312\\lib\\site-packages (from python-docx) (5.3.0)\n",
      "Requirement already satisfied: typing-extensions>=4.9.0 in c:\\users\\gustavo\\appdata\\local\\programs\\python\\python312\\lib\\site-packages (from python-docx) (4.12.2)\n",
      "Requirement already satisfied: six>=1.5 in c:\\users\\gustavo\\appdata\\roaming\\python\\python312\\site-packages (from python-dateutil>=2.8.2->pandas) (1.16.0)\n"
     ]
    }
   ],
   "source": [
    "pip install pandas matplotlib python-docx"
   ]
  },
  {
   "cell_type": "code",
   "execution_count": 43,
   "metadata": {},
   "outputs": [],
   "source": [
    "import pandas as pd\n",
    "import matplotlib.pyplot as plt\n",
    "from docx import Document\n",
    "from docx.shared import Inches\n",
    "import io"
   ]
  },
  {
   "cell_type": "code",
   "execution_count": 44,
   "metadata": {},
   "outputs": [],
   "source": [
    "def criar_grafico(dados):\n",
    "    # Cria um gráfico de barras para os salários\n",
    "    plt.figure(figsize=(10, 6))\n",
    "    plt.bar(dados['Nome'], dados['Salario'], color='skyblue')\n",
    "    plt.xlabel('Nome')\n",
    "    plt.ylabel('Salário')\n",
    "    plt.title('Salário dos Funcionários')\n",
    "    plt.xticks(rotation=45, ha='right')\n",
    "\n",
    "    # Salva o gráfico em um buffer de memória\n",
    "    buffer = io.BytesIO()\n",
    "    plt.savefig(buffer, format='png')\n",
    "    plt.close()\n",
    "    buffer.seek(0)\n",
    "    return buffer"
   ]
  },
  {
   "cell_type": "code",
   "execution_count": 45,
   "metadata": {},
   "outputs": [],
   "source": [
    "def substituir_grafico_no_documento(doc, marcador, buffer):\n",
    "    # Itera sobre os parágrafos para encontrar o marcador\n",
    "    for paragrafo in doc.paragraphs:\n",
    "        if marcador in paragrafo.text:\n",
    "            # Remove o parágrafo com o marcador\n",
    "            p = paragrafo._element\n",
    "            p.getparent().remove(p)\n",
    "            # Adiciona o gráfico ao documento\n",
    "            doc.add_paragraph()  # Adiciona um parágrafo em branco antes do gráfico\n",
    "            doc.add_picture(buffer, width=Inches(6))  # Ajuste o tamanho conforme necessário\n",
    "            break"
   ]
  },
  {
   "cell_type": "code",
   "execution_count": 46,
   "metadata": {},
   "outputs": [],
   "source": [
    "def atualizar_documento(caminho_csv, caminho_template, caminho_saida):\n",
    "    # Lê os dados do CSV\n",
    "    dados = pd.read_csv(caminho_csv)\n",
    "    \n",
    "    # Cria o gráfico\n",
    "    buffer = criar_grafico(dados)\n",
    "    \n",
    "    # Carrega o documento template\n",
    "    doc = Document(caminho_template)\n",
    "    \n",
    "    # Substitui o marcador <GRAFICO> pelo gráfico\n",
    "    substituir_grafico_no_documento(doc, '<GRAFICO>', buffer)\n",
    "    \n",
    "    # Salva o documento modificado com um novo nome\n",
    "    doc.save(caminho_saida)"
   ]
  },
  {
   "cell_type": "code",
   "execution_count": 47,
   "metadata": {},
   "outputs": [],
   "source": [
    "# Caminhos dos arquivos\n",
    "caminho_csv = 'dados_exemplo.csv'\n",
    "caminho_template = 'template_relatorio.docx'\n",
    "caminho_saida = 'relatorio_atualizado.docx'\n",
    "\n",
    "# Atualiza o documento com o gráfico\n",
    "atualizar_documento(caminho_csv, caminho_template, caminho_saida)"
   ]
  },
  {
   "cell_type": "markdown",
   "metadata": {},
   "source": [
    "## **4. Combinação dos Códigos em um Único Script**"
   ]
  },
  {
   "cell_type": "markdown",
   "metadata": {},
   "source": [
    "**Pedido 4:** Chat, agora eu quero que você combine os pedidos 1, 2 e 3 em apenas um único script. Separe as importações, os métodos e a execução. O script deve receber os seguintes parâmetros (i) o documento \"template_relatorio.docx\" para adicionar as informações; (ii) o texto que vai ser inserido no documento na parte <TEXTO> do documento; (iii) \"dados exemplo.csv\" com as informações da tabela para serem inseridas na parte <TABELA> do documento; e (iv) a geração do gráfico para ser inserido na parte de <GRAFICO> do documento."
   ]
  },
  {
   "cell_type": "code",
   "execution_count": 48,
   "metadata": {},
   "outputs": [],
   "source": [
    "import pandas as pd\n",
    "import matplotlib.pyplot as plt\n",
    "from docx import Document\n",
    "from docx.shared import Inches\n",
    "import io"
   ]
  },
  {
   "cell_type": "code",
   "execution_count": 49,
   "metadata": {},
   "outputs": [],
   "source": [
    "# Funções\n",
    "\n",
    "def criar_tabela(doc, dados):\n",
    "    tabela = doc.add_table(rows=1, cols=len(dados.columns))\n",
    "    tabela.style = 'Table Grid'\n",
    "    \n",
    "    hdr_cells = tabela.rows[0].cells\n",
    "    for i, coluna in enumerate(dados.columns):\n",
    "        hdr_cells[i].text = coluna\n",
    "    \n",
    "    for _, linha in dados.iterrows():\n",
    "        row_cells = tabela.add_row().cells\n",
    "        for i, valor in enumerate(linha):\n",
    "            row_cells[i].text = str(valor)\n",
    "    \n",
    "    return tabela"
   ]
  },
  {
   "cell_type": "code",
   "execution_count": 50,
   "metadata": {},
   "outputs": [],
   "source": [
    "def criar_grafico(dados):\n",
    "    plt.figure(figsize=(10, 6))\n",
    "    plt.bar(dados['Nome'], dados['Salario'], color='skyblue')\n",
    "    plt.xlabel('Nome')\n",
    "    plt.ylabel('Salário')\n",
    "    plt.title('Salário dos Funcionários')\n",
    "    plt.xticks(rotation=45, ha='right')\n",
    "\n",
    "    buffer = io.BytesIO()\n",
    "    plt.savefig(buffer, format='png')\n",
    "    plt.close()\n",
    "    buffer.seek(0)\n",
    "    return buffer"
   ]
  },
  {
   "cell_type": "code",
   "execution_count": 51,
   "metadata": {},
   "outputs": [],
   "source": [
    "def substituir_texto_no_documento(doc, marcador, texto_substituto):\n",
    "    for paragrafo in doc.paragraphs:\n",
    "        if marcador in paragrafo.text:\n",
    "            paragrafo.text = paragrafo.text.replace(marcador, texto_substituto)"
   ]
  },
  {
   "cell_type": "code",
   "execution_count": 52,
   "metadata": {},
   "outputs": [],
   "source": [
    "def substituir_tabela_no_documento(doc, marcador, dados):\n",
    "    for paragrafo in doc.paragraphs:\n",
    "        if marcador in paragrafo.text:\n",
    "            p = paragrafo._element\n",
    "            p.getparent().remove(p)\n",
    "            doc.add_paragraph()\n",
    "            criar_tabela(doc, dados)\n",
    "            break"
   ]
  },
  {
   "cell_type": "code",
   "execution_count": 53,
   "metadata": {},
   "outputs": [],
   "source": [
    "def substituir_grafico_no_documento(doc, marcador, buffer):\n",
    "    for paragrafo in doc.paragraphs:\n",
    "        if marcador in paragrafo.text:\n",
    "            p = paragrafo._element\n",
    "            p.getparent().remove(p)\n",
    "            doc.add_paragraph()\n",
    "            doc.add_picture(buffer, width=Inches(6))\n",
    "            break"
   ]
  },
  {
   "cell_type": "code",
   "execution_count": 54,
   "metadata": {},
   "outputs": [],
   "source": [
    "def atualizar_documento(template_path, texto, csv_path, output_path):\n",
    "    # Lê os dados do CSV\n",
    "    dados = pd.read_csv(csv_path)\n",
    "    \n",
    "    # Cria o gráfico\n",
    "    buffer = criar_grafico(dados)\n",
    "    \n",
    "    # Carrega o documento template\n",
    "    doc = Document(template_path)\n",
    "    \n",
    "    # Substitui o texto\n",
    "    substituir_texto_no_documento(doc, '<TEXTO>', texto)\n",
    "    \n",
    "    # Substitui a tabela\n",
    "    substituir_tabela_no_documento(doc, '<TABELA>', dados)\n",
    "    \n",
    "    # Substitui o gráfico\n",
    "    substituir_grafico_no_documento(doc, '<GRAFICO>', buffer)\n",
    "    \n",
    "    # Salva o documento modificado com um novo nome\n",
    "    doc.save(output_path)"
   ]
  },
  {
   "cell_type": "code",
   "execution_count": 55,
   "metadata": {},
   "outputs": [],
   "source": [
    "# Parâmetros\n",
    "template_path = 'template_relatorio.docx'\n",
    "texto = 'Este é o texto substituto'\n",
    "csv_path = 'dados_exemplo.csv'\n",
    "output_path = 'relatorio_atualizado.docx'\n",
    "\n",
    "# Executa a atualização do documento\n",
    "atualizar_documento(template_path, texto, csv_path, output_path)"
   ]
  }
 ],
 "metadata": {
  "kernelspec": {
   "display_name": "Python 3",
   "language": "python",
   "name": "python3"
  },
  "language_info": {
   "codemirror_mode": {
    "name": "ipython",
    "version": 3
   },
   "file_extension": ".py",
   "mimetype": "text/x-python",
   "name": "python",
   "nbconvert_exporter": "python",
   "pygments_lexer": "ipython3",
   "version": "3.12.5"
  }
 },
 "nbformat": 4,
 "nbformat_minor": 2
}
